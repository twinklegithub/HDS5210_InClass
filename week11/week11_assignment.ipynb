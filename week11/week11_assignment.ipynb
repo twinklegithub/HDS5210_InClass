{
  "cells": [
    {
      "cell_type": "markdown",
      "metadata": {
        "id": "view-in-github",
        "colab_type": "text"
      },
      "source": [
        "<a href=\"https://colab.research.google.com/github/twinklegithub/HDS5210_InClass/blob/master/week11/week11_assignment.ipynb\" target=\"_parent\"><img src=\"https://colab.research.google.com/assets/colab-badge.svg\" alt=\"Open In Colab\"/></a>"
      ]
    },
    {
      "cell_type": "markdown",
      "metadata": {
        "id": "BkYPvvroP1cb"
      },
      "source": [
        "# Week 11 Assignment\n",
        "\n",
        "\n",
        "Please do the programming exercise and verify that your code works using the tests, then think about your final project and fill out the questions in the second part.\n",
        "\n",
        "---\n",
        "---"
      ]
    },
    {
      "cell_type": "markdown",
      "metadata": {
        "id": "66Rh4139P1cc"
      },
      "source": [
        "### 47.1: Filtering and summarizing data\n",
        "\n",
        "For this work, you'll find a data file in `/data/complications_all.csv`.\n",
        "\n",
        "Read in the data file and create a variable called `mo_hospitals` that contains a data frame from the `complications_all.csv` file, filtered down to only contain those hospitals from the state of Missouri (MO).\n",
        "\n",
        "Then aggregate that data by hospital into a variable named `mo_summary`.  There are some key fields that we want to summarize:\n",
        "* We want to know the earliest date that each hospital was participating in any program\n",
        "* We want to know the latest date that each hospital stopped participating in any program\n",
        "* We want to know the total number of patients in the denominators of these programs\n",
        "\n",
        "Some things to note:\n",
        "* You will need to convert the `Start Date` and `End Date` to actual datetime fields\n",
        "* You will need to clean up and convert the `Denominator` field to just be numeric - the rule that you should use it to simply remove any records where the `Denominator` is `'Not Available'`\n",
        "\n",
        "\n",
        "The final result of this step should be a new data frame called `mo_summary` that contains one row for each hospital and contains the min start date, max end date, and total denominator.  Use the names `start_date`, `end_date`, and `number` for those columns in `mo_summary`.\n",
        "\n",
        "\n",
        "You do not need to create your code in the form of a function, just make sure your variable names match what I've described above so the tests work."
      ]
    },
    {
      "cell_type": "code",
      "execution_count": 2,
      "metadata": {
        "id": "oRDihdkoP1cd"
      },
      "outputs": [],
      "source": [
        "import pandas as pd\n",
        "# This is just to show you the name to use for the variable you need to create for this step to pass.\n",
        "all_hospitals = pd.read_csv('/content/complications_all (1).csv')\n"
      ]
    },
    {
      "cell_type": "code",
      "execution_count": 3,
      "metadata": {
        "id": "i1X0yzZbP1ce",
        "outputId": "c20b1421-3a1a-4869-e503-88d15f5097e7",
        "colab": {
          "base_uri": "https://localhost:8080/"
        }
      },
      "outputs": [
        {
          "output_type": "stream",
          "name": "stdout",
          "text": [
            "  Facility ID                     Facility Name                 Address  \\\n",
            "0      010001  SOUTHEAST ALABAMA MEDICAL CENTER  1108 ROSS CLARK CIRCLE   \n",
            "1      010001  SOUTHEAST ALABAMA MEDICAL CENTER  1108 ROSS CLARK CIRCLE   \n",
            "2      010001  SOUTHEAST ALABAMA MEDICAL CENTER  1108 ROSS CLARK CIRCLE   \n",
            "3      010001  SOUTHEAST ALABAMA MEDICAL CENTER  1108 ROSS CLARK CIRCLE   \n",
            "4      010001  SOUTHEAST ALABAMA MEDICAL CENTER  1108 ROSS CLARK CIRCLE   \n",
            "\n",
            "     City State  ZIP Code County Name    Phone Number     Measure ID  \\\n",
            "0  DOTHAN    AL     36301     HOUSTON  (334) 793-8701  COMP_HIP_KNEE   \n",
            "1  DOTHAN    AL     36301     HOUSTON  (334) 793-8701    MORT_30_AMI   \n",
            "2  DOTHAN    AL     36301     HOUSTON  (334) 793-8701   MORT_30_CABG   \n",
            "3  DOTHAN    AL     36301     HOUSTON  (334) 793-8701   MORT_30_COPD   \n",
            "4  DOTHAN    AL     36301     HOUSTON  (334) 793-8701     MORT_30_HF   \n",
            "\n",
            "                                        Measure Name  \\\n",
            "0  Rate of complications for hip/knee replacement...   \n",
            "1               Death rate for heart attack patients   \n",
            "2               Death rate for CABG surgery patients   \n",
            "3                       Death rate for COPD patients   \n",
            "4              Death rate for heart failure patients   \n",
            "\n",
            "                  Compared to National Denominator Score Lower Estimate  \\\n",
            "0  No Different Than the National Rate         292   3.2            2.1   \n",
            "1  No Different Than the National Rate         688    13           11.0   \n",
            "2  No Different Than the National Rate         291   4.3            2.6   \n",
            "3  No Different Than the National Rate         411   8.8            6.7   \n",
            "4  No Different Than the National Rate         869  12.7           10.7   \n",
            "\n",
            "  Higher Estimate  Footnote  Start Date    End Date  \n",
            "0             4.8       NaN  04/01/2015  03/31/2018  \n",
            "1            15.5       NaN  07/01/2015  06/30/2018  \n",
            "2             6.8       NaN  07/01/2015  06/30/2018  \n",
            "3            11.4       NaN  07/01/2015  06/30/2018  \n",
            "4            15.0       NaN  07/01/2015  06/30/2018  \n"
          ]
        }
      ],
      "source": [
        "print(all_hospitals.head())"
      ]
    },
    {
      "cell_type": "code",
      "source": [
        "print(all_hospitals.columns)"
      ],
      "metadata": {
        "id": "xgjufhAsQe_p",
        "outputId": "f5bf4834-314e-4bd5-841e-419480c4abcd",
        "colab": {
          "base_uri": "https://localhost:8080/"
        }
      },
      "execution_count": 4,
      "outputs": [
        {
          "output_type": "stream",
          "name": "stdout",
          "text": [
            "Index(['Facility ID', 'Facility Name', 'Address', 'City', 'State', 'ZIP Code',\n",
            "       'County Name', 'Phone Number', 'Measure ID', 'Measure Name',\n",
            "       'Compared to National', 'Denominator', 'Score', 'Lower Estimate',\n",
            "       'Higher Estimate', 'Footnote', 'Start Date', 'End Date'],\n",
            "      dtype='object')\n"
          ]
        }
      ]
    },
    {
      "cell_type": "code",
      "source": [
        "mo_hospitals = all_hospitals[all_hospitals['State'] == 'MO'].copy()"
      ],
      "metadata": {
        "id": "gABMKhTBQe8K"
      },
      "execution_count": 5,
      "outputs": []
    },
    {
      "cell_type": "code",
      "source": [
        "mo_hospitals['Start Date'] = pd.to_datetime(mo_hospitals['Start Date'], errors='coerce')\n",
        "mo_hospitals['End Date'] = pd.to_datetime(mo_hospitals['End Date'], errors='coerce')"
      ],
      "metadata": {
        "id": "QWqpDhTQQolb"
      },
      "execution_count": 6,
      "outputs": []
    },
    {
      "cell_type": "code",
      "source": [
        "mo_hospitals = mo_hospitals[mo_hospitals['Denominator'] != 'Not Available']\n",
        "mo_hospitals['Denominator'] = pd.to_numeric(mo_hospitals['Denominator'])"
      ],
      "metadata": {
        "id": "8WpmGWBnQoY_",
        "outputId": "6c6d004c-8a02-4878-c7b3-f4f91d1362fa",
        "colab": {
          "base_uri": "https://localhost:8080/"
        }
      },
      "execution_count": 7,
      "outputs": [
        {
          "output_type": "stream",
          "name": "stderr",
          "text": [
            "<ipython-input-7-d366114e19f5>:2: SettingWithCopyWarning: \n",
            "A value is trying to be set on a copy of a slice from a DataFrame.\n",
            "Try using .loc[row_indexer,col_indexer] = value instead\n",
            "\n",
            "See the caveats in the documentation: https://pandas.pydata.org/pandas-docs/stable/user_guide/indexing.html#returning-a-view-versus-a-copy\n",
            "  mo_hospitals['Denominator'] = pd.to_numeric(mo_hospitals['Denominator'])\n"
          ]
        }
      ]
    },
    {
      "cell_type": "code",
      "source": [
        "mo_summary = mo_hospitals.groupby('Facility Name').agg(\n",
        "    start_date=('Start Date', 'min'),\n",
        "    end_date=('End Date', 'max'),\n",
        "    number=('Denominator', 'sum')\n",
        ")\n",
        "print(mo_summary.head())"
      ],
      "metadata": {
        "id": "v7r76fAtQoMn",
        "outputId": "37a1f707-7f17-4afa-cac3-b8c0c51f13d7",
        "colab": {
          "base_uri": "https://localhost:8080/"
        }
      },
      "execution_count": 8,
      "outputs": [
        {
          "output_type": "stream",
          "name": "stdout",
          "text": [
            "                                   start_date   end_date  number\n",
            "Facility Name                                                   \n",
            "BARNES JEWISH HOSPITAL             2015-04-01 2018-06-30  131313\n",
            "BARNES-JEWISH ST PETERS HOSPITAL   2015-04-01 2018-06-30   15668\n",
            "BARNES-JEWISH WEST COUNTY HOSPITAL 2015-04-01 2018-06-30    9622\n",
            "BATES COUNTY MEMORIAL HOSPITAL     2015-07-01 2018-06-30    3117\n",
            "BELTON REGIONAL MEDICAL CENTER     2015-04-01 2018-06-30    9270\n"
          ]
        }
      ]
    },
    {
      "cell_type": "code",
      "execution_count": 9,
      "metadata": {
        "id": "o1FLMsBdP1ce"
      },
      "outputs": [],
      "source": [
        "assert(mo_summary['number'].sum() == 1766908)\n",
        "assert(mo_summary['start_date'].min() == pd.Timestamp(2015,4,1))\n",
        "assert(mo_summary['end_date'].max() == pd.Timestamp(2018,6,30))\n",
        "assert(mo_summary.shape == (108,3))\n",
        "assert(mo_summary.loc['BARNES JEWISH HOSPITAL'].number == 131313)\n",
        "assert(mo_summary.loc['BOONE HOSPITAL CENTER'].number == 63099)"
      ]
    },
    {
      "cell_type": "markdown",
      "metadata": {
        "id": "W0rjyIgzP1ce"
      },
      "source": [
        "---\n",
        "\n",
        "### 47.2 Planning your final project\n",
        "\n",
        "You should be thinking about the things we've been learning and how you can apply them to your final project.  Use the rubric to help guid your thinking and then answer the questions below.  This is meant as a guide to help you think through what you will do."
      ]
    },
    {
      "cell_type": "markdown",
      "metadata": {
        "id": "8BdrWL3dP1ce"
      },
      "source": [
        "#### A) Data Access\n",
        "\n",
        "Your project should include data from at least three distinct types of sources.  For example: AWS S3, Relational Databases, Internet, Web Services, local files.  List what data sources you're planning to use."
      ]
    },
    {
      "cell_type": "markdown",
      "metadata": {
        "id": "EWNwQ8IzP1cf"
      },
      "source": [
        "here, Iam taking Employee dataset from the kaggle website,contains information about employees in a company, including their educational backgrounds, work history, demographics, and employment-related factors.from the year 2010.  it is in csv format . here is the url, https://www.kaggle.com/datasets/tawfikelmetwally/employee-dataset\n",
        "\n",
        "Another dataset named hatbert it contains the work life balance of employes taken from the year 2010,it is in jason format.here is the url, https://www.kaggle.com/datasets/shashwatsaini04/hatbert"
      ]
    },
    {
      "cell_type": "markdown",
      "metadata": {
        "id": "BvZ9RWLoP1cf"
      },
      "source": [
        "#### B. Data Formats\n",
        "\n",
        "Your project should include data that comes in different file formats.  For example: HL7, EDI, HTML, CSV, Excel, JSON, XML.  List what data formats you're planning to use."
      ]
    },
    {
      "cell_type": "markdown",
      "metadata": {
        "id": "1eeCupw8P1cf"
      },
      "source": [
        "**Double-click to enter your answer**\n",
        "\n",
        "In my project i'm planning to use dataets from kaggle ,one is in json format and another dataset is in csv format."
      ]
    },
    {
      "cell_type": "markdown",
      "metadata": {
        "id": "fP1YrhxcP1cf"
      },
      "source": [
        "#### C. Objective\n",
        "\n",
        "What purpose would your project serve in a real work setting?  Take a couple of paragraphs to write down why this is an interesting product."
      ]
    },
    {
      "cell_type": "markdown",
      "metadata": {
        "id": "ajxa0UJDP1cf"
      },
      "source": [
        "**Double-click to enter your answer**\n",
        "\n",
        "Put your answer here\n",
        "\n",
        "The usage of the results when analyzing the data of the HAT-BERT dataset has implications to health and fitness, safety within the workplaces among other areas. Tools for analysing human activity data together with textual findings can be used in the given project to identify movement pathologies, assess the patient’s rehabilitation process, and propose an individual exercise regimen. Products that are wearable will also be able to incorporate this analysis and give users timely feedback to help in implementing normal interferences to users’ experience. It is rather interesting to see how this project connects HAR with AI and opens a new set of uses for wearable technology. It lays the potential to bring change to health results, safety at workplace, and make personal contact with clients more effective, which qualifies it for enhancing human-centric solutions.\n",
        "The features within the employee dataset can be used to enhance productivity within an organization as well as employee satisfaction through the analysis of salaries of the employees along with their job description and attrition rates. Such cases, organizations are able to determine important variables that would affect the ability of employees to be retained or strategies that could be used to create effective work environments especially when implementing change such as low turnover or improved team results. This project is interesting because it focus on an important aspect of organisations today: the management of the workforce with the help of big data and analytical tools. Drawing analytical conclusions and following the trends in employees requirements business can create effective and pleasant working climate which increases the satisfaction and performance rate.\n"
      ]
    },
    {
      "cell_type": "markdown",
      "metadata": {
        "id": "sSrgmHs0P1cf"
      },
      "source": [
        "\n",
        "\n",
        "---\n",
        "\n",
        "\n",
        "\n",
        "## Submit your work via GitHub as normal\n"
      ]
    }
  ],
  "metadata": {
    "kernelspec": {
      "display_name": "Python 3",
      "language": "python",
      "name": "python3"
    },
    "language_info": {
      "codemirror_mode": {
        "name": "ipython",
        "version": 3
      },
      "file_extension": ".py",
      "mimetype": "text/x-python",
      "name": "python",
      "nbconvert_exporter": "python",
      "pygments_lexer": "ipython3",
      "version": "3.9.16"
    },
    "colab": {
      "provenance": [],
      "include_colab_link": true
    }
  },
  "nbformat": 4,
  "nbformat_minor": 0
}