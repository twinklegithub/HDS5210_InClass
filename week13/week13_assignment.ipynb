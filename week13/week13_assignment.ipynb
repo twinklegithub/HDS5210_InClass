{
  "cells": [
    {
      "cell_type": "markdown",
      "metadata": {
        "id": "view-in-github",
        "colab_type": "text"
      },
      "source": [
        "<a href=\"https://colab.research.google.com/github/twinklegithub/HDS5210_InClass/blob/master/week13/week13_assignment.ipynb\" target=\"_parent\"><img src=\"https://colab.research.google.com/assets/colab-badge.svg\" alt=\"Open In Colab\"/></a>"
      ]
    },
    {
      "cell_type": "markdown",
      "metadata": {
        "nbgrader": {
          "grade": false,
          "grade_id": "cell-fc1c39d0d6f8b82a",
          "locked": true,
          "schema_version": 1,
          "solution": false
        },
        "id": "49X-YvV5J1ai"
      },
      "source": [
        "# Week 13 Programming Assignment\n",
        "\n",
        "As you're working on identifying data for your final project, it's helpful to spend some time exploring your various data files.  For this week's assignment, I'd like you to take a few of the ideas from the the lectures, review assignment, and tonight's lecture to start exploring the data you plan to use for the final project.\n",
        "\n",
        "For the following activities, you can use just one of the data files that you've identified, or you can do the activities using different data files.  That's up to you.  Check in your data file along with this exercise. Please describe what you're doing in a Markdown cell or in the comments of your code.  When you've completed the assignment, submit it as normal."
      ]
    },
    {
      "cell_type": "markdown",
      "metadata": {
        "id": "3rM1--WcJ1aj"
      },
      "source": [
        "### 1. Basic Statistics\n",
        "\n",
        "Use Python to read in your data file and show many rows and columns your data has."
      ]
    },
    {
      "cell_type": "code",
      "execution_count": 13,
      "metadata": {
        "id": "27hcVTEPJ1ak",
        "outputId": "3165093e-4267-499a-d659-08f3b65eaf46",
        "colab": {
          "base_uri": "https://localhost:8080/"
        }
      },
      "outputs": [
        {
          "output_type": "stream",
          "name": "stdout",
          "text": [
            "The dataset has 4653 rows and 9 columns.\n"
          ]
        }
      ],
      "source": [
        "import pandas as pd\n",
        "\n",
        "# To Load the dataset\n",
        "file_path = '/content/Employee.csv'\n",
        "data = pd.read_csv(file_path)\n",
        "\n",
        "# To show the dataset's shape\n",
        "num_rows, num_columns = data.shape\n",
        "print(f\"The dataset has {num_rows} rows and {num_columns} columns.\")\n"
      ]
    },
    {
      "cell_type": "markdown",
      "metadata": {
        "id": "L58TM4eEJ1ak"
      },
      "source": [
        "### 2. Data Diversity\n",
        "\n",
        "Use Python to identify how many unique values each column in your data has.  Use Python to identify which column has the greatest number of distinct values (aka the most diversity)?  If your data has a unique identifier (e.g. a person or visit or record ID) then find the column with the next most number of unique values."
      ]
    },
    {
      "cell_type": "code",
      "execution_count": 14,
      "metadata": {
        "id": "gVfYou8dJ1ak",
        "outputId": "bd7b05ef-072d-44af-cd56-6ae84f614b2b",
        "colab": {
          "base_uri": "https://localhost:8080/"
        }
      },
      "outputs": [
        {
          "output_type": "stream",
          "name": "stdout",
          "text": [
            "Unique values per column:\n",
            "Education                     3\n",
            "JoiningYear                   7\n",
            "City                          3\n",
            "PaymentTier                   3\n",
            "Age                          20\n",
            "Gender                        2\n",
            "EverBenched                   2\n",
            "ExperienceInCurrentDomain     8\n",
            "LeaveOrNot                    2\n",
            "dtype: int64\n",
            "The column with the greatest number of unique values: Age\n",
            "The next most diverse column: ExperienceInCurrentDomain\n"
          ]
        }
      ],
      "source": [
        "# Count unique values per column\n",
        "unique_counts = data.nunique()\n",
        "\n",
        "# Identify the most diverse column, removing any unique identifiers that may be present.\n",
        "most_diverse = unique_counts.idxmax()\n",
        "next_most_diverse = unique_counts.nlargest(2).index[-1] if unique_counts.shape[0] > 1 else None\n",
        "\n",
        "# Display results\n",
        "print(\"Unique values per column:\")\n",
        "print(unique_counts)\n",
        "print(f\"The column with the greatest number of unique values: {most_diverse}\")\n",
        "if next_most_diverse:\n",
        "    print(f\"The next most diverse column: {next_most_diverse}\")"
      ]
    },
    {
      "cell_type": "markdown",
      "metadata": {
        "id": "B1yqjd4uJ1ak"
      },
      "source": [
        "### 3. Data Redundancy\n",
        "\n",
        "Use Python to identify any columns in your data where the value for every row is the same.  For example, if you had a gender column and all the rows said 'M', then you would want to write the code that helped you determine that."
      ]
    },
    {
      "cell_type": "code",
      "execution_count": 15,
      "metadata": {
        "id": "FczEG0YjJ1ak",
        "outputId": "05147eda-a582-460b-a8e3-35e6f9662b47",
        "colab": {
          "base_uri": "https://localhost:8080/"
        }
      },
      "outputs": [
        {
          "output_type": "stream",
          "name": "stdout",
          "text": [
            "No redundant columns found.\n"
          ]
        }
      ],
      "source": [
        " #Find redundant columns (all values are the same)\n",
        "redundant_columns = [col for col in data.columns if data[col].nunique() == 1]\n",
        "\n",
        "# Display results\n",
        "if redundant_columns:\n",
        "    print(\"Columns where all rows have the same value:\")\n",
        "    print(redundant_columns)\n",
        "else:\n",
        "    print(\"No redundant columns found.\")"
      ]
    },
    {
      "cell_type": "markdown",
      "metadata": {
        "id": "l8iJSUgMJ1ak"
      },
      "source": [
        "### 4. Range of Values\n",
        "\n",
        "Your data almost certainly has some numeric columns that can be summed or averaged.  Create a histogram that shows the distribution of values for this column."
      ]
    },
    {
      "cell_type": "code",
      "execution_count": 20,
      "metadata": {
        "id": "yZr14jRrJ1ak",
        "outputId": "0cdd6a6e-5258-4925-9604-4750e64d3db8",
        "colab": {
          "base_uri": "https://localhost:8080/",
          "height": 504
        }
      },
      "outputs": [
        {
          "output_type": "display_data",
          "data": {
            "text/plain": [
              "<Figure size 640x480 with 1 Axes>"
            ],
            "image/png": "[encoded data removed]"
          },
          "metadata": {}
        }
      ],
      "source": [
        "import matplotlib.pyplot as plt\n",
        "\n",
        "joining_year = data.select_dtypes(include='number').columns\n",
        "if joining_year.any():\n",
        "    column_to_plot = joining_year[0]  # Choose the first numeric column\n",
        "    plt.hist(data[joining_year].dropna(), bins=10, edgecolor='black')\n",
        "    plt.title(f\"Distribution of joining_year\")\n",
        "    plt.xlabel(joining_year)\n",
        "    plt.ylabel(\"Frequency\")\n",
        "    plt.show()\n",
        "else:\n",
        "    print(\"No numeric columns found for plotting.\")"
      ]
    },
    {
      "cell_type": "markdown",
      "metadata": {
        "id": "F9QdvmMgJ1al"
      },
      "source": [
        "### 5. Discussion\n",
        "\n",
        "Do any additional exploration of this data that you think may be interesting and include your code here.  Then go onto Slack and make a post about what you've observed.  Share your observation.  Share your code, if you like.  Share a screenshot of the data or a chart based on the data.\n",
        "\n",
        "Then comment on at least two other people's observations that they share on Slack.  (Use the reply as thread option in Slack to keep the conversation organized.)"
      ]
    },
    {
      "cell_type": "code",
      "execution_count": 21,
      "metadata": {
        "id": "McgZGKZ3J1al",
        "outputId": "e990aad9-b7f4-40eb-d98f-a5c8cf0bc476",
        "colab": {
          "base_uri": "https://localhost:8080/"
        }
      },
      "outputs": [
        {
          "output_type": "stream",
          "name": "stdout",
          "text": [
            "Correlation matrix for joining_year:\n",
            "                           JoiningYear  PaymentTier       Age  \\\n",
            "JoiningYear                   1.000000    -0.096078  0.013165   \n",
            "PaymentTier                  -0.096078     1.000000  0.007631   \n",
            "Age                           0.013165     0.007631  1.000000   \n",
            "ExperienceInCurrentDomain    -0.036525     0.018314 -0.134643   \n",
            "LeaveOrNot                    0.181705    -0.197638 -0.051126   \n",
            "\n",
            "                           ExperienceInCurrentDomain  LeaveOrNot  \n",
            "JoiningYear                                -0.036525    0.181705  \n",
            "PaymentTier                                 0.018314   -0.197638  \n",
            "Age                                        -0.134643   -0.051126  \n",
            "ExperienceInCurrentDomain                   1.000000   -0.030504  \n",
            "LeaveOrNot                                 -0.030504    1.000000  \n"
          ]
        }
      ],
      "source": [
        "# Correlation matrix for numeric columns\n",
        "if joining_year.any():\n",
        "    correlation_matrix = data[joining_year].corr()\n",
        "    print(\"Correlation matrix for joining_year:\")\n",
        "    print(correlation_matrix)\n",
        "else:\n",
        "    print(\"No numeric columns available for correlation analysis.\")"
      ]
    },
    {
      "cell_type": "markdown",
      "metadata": {
        "id": "o8Y1QqbuJ1al"
      },
      "source": [
        "\n",
        "\n",
        "---\n",
        "\n",
        "\n",
        "\n",
        "## Submitting Your Work\n",
        "\n",
        "Submit your work as usual."
      ]
    },
    {
      "cell_type": "code",
      "execution_count": 19,
      "metadata": {
        "id": "y7q3o8vRJ1al"
      },
      "outputs": [],
      "source": []
    }
  ],
  "metadata": {
    "celltoolbar": "Create Assignment",
    "kernelspec": {
      "display_name": "Python 3",
      "language": "python",
      "name": "python3"
    },
    "language_info": {
      "codemirror_mode": {
        "name": "ipython",
        "version": 3
      },
      "file_extension": ".py",
      "mimetype": "text/x-python",
      "name": "python",
      "nbconvert_exporter": "python",
      "pygments_lexer": "ipython3",
      "version": "3.6.7"
    },
    "colab": {
      "provenance": [],
      "include_colab_link": true
    }
  },
  "nbformat": 4,
  "nbformat_minor": 0
}